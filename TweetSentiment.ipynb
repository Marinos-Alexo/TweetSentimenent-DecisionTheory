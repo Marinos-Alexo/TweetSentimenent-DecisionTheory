{
  "nbformat": 4,
  "nbformat_minor": 0,
  "metadata": {
    "colab": {
      "name": "TweetSentiment.ipynb",
      "provenance": [],
      "collapsed_sections": []
    },
    "kernelspec": {
      "name": "python3",
      "display_name": "Python 3"
    }
  },
  "cells": [
    {
      "cell_type": "code",
      "metadata": {
        "colab": {
          "base_uri": "https://localhost:8080/"
        },
        "id": "nVpOi6fcPK16",
        "outputId": "6cea3c6e-ce70-4668-ab8c-5f438f3ca3bb"
      },
      "source": [
        "import pandas as pd\n",
        "#open source data analysis and manipulation tool\n",
        "import nltk\n",
        "# Natural Language Toolkit\n",
        "import seaborn as sns \n",
        "#Library for diagrams\n",
        "from textblob import TextBlob\n",
        "#Library for processing textual data\n",
        "nltk.download('punkt')  \n",
        "# Natural Language Toolkit\n",
        "\n"
      ],
      "execution_count": null,
      "outputs": [
        {
          "output_type": "stream",
          "text": [
            "[nltk_data] Downloading package punkt to /root/nltk_data...\n",
            "[nltk_data]   Package punkt is already up-to-date!\n"
          ],
          "name": "stdout"
        },
        {
          "output_type": "execute_result",
          "data": {
            "text/plain": [
              "True"
            ]
          },
          "metadata": {
            "tags": []
          },
          "execution_count": 106
        }
      ]
    },
    {
      "cell_type": "code",
      "metadata": {
        "id": "an1k3YsWPWDO"
      },
      "source": [
        "#Read .csv files into train and test data with the right encoding!\n",
        "train_data = pd.read_csv('/content/SocialMedia_Negative.csv', encoding= 'unicode_escape')\n",
        "test_data = pd.read_csv('/content/SocialMedia_Positive.csv', encoding= 'unicode_escape')\n",
        "\n",
        "\n",
        "\n",
        "\n",
        "\n",
        "train_data = train_data[train_data['Sentiment'] != 'Text']"
      ],
      "execution_count": null,
      "outputs": []
    },
    {
      "cell_type": "code",
      "metadata": {
        "id": "S2Kira26Vy4Z",
        "colab": {
          "base_uri": "https://localhost:8080/",
          "height": 195
        },
        "outputId": "80a2acf4-bbe3-4594-c3a1-a110611525c7"
      },
      "source": [
        "# Analyze the 1st 5 posts of train_data file\r\n",
        "train_data.head() "
      ],
      "execution_count": null,
      "outputs": [
        {
          "output_type": "execute_result",
          "data": {
            "text/html": [
              "<div>\n",
              "<style scoped>\n",
              "    .dataframe tbody tr th:only-of-type {\n",
              "        vertical-align: middle;\n",
              "    }\n",
              "\n",
              "    .dataframe tbody tr th {\n",
              "        vertical-align: top;\n",
              "    }\n",
              "\n",
              "    .dataframe thead th {\n",
              "        text-align: right;\n",
              "    }\n",
              "</style>\n",
              "<table border=\"1\" class=\"dataframe\">\n",
              "  <thead>\n",
              "    <tr style=\"text-align: right;\">\n",
              "      <th></th>\n",
              "      <th>ID</th>\n",
              "      <th>Text</th>\n",
              "      <th>Sentiment</th>\n",
              "    </tr>\n",
              "  </thead>\n",
              "  <tbody>\n",
              "    <tr>\n",
              "      <th>0</th>\n",
              "      <td>N1</td>\n",
              "      <td>I've had an IPhone for like 3 years and I've n...</td>\n",
              "      <td>negative</td>\n",
              "    </tr>\n",
              "    <tr>\n",
              "      <th>1</th>\n",
              "      <td>N2</td>\n",
              "      <td>I dont need the new iphone but I want it :(</td>\n",
              "      <td>negative</td>\n",
              "    </tr>\n",
              "    <tr>\n",
              "      <th>2</th>\n",
              "      <td>N3</td>\n",
              "      <td>fuck the iPhone 6s cus I'm not getting one :(</td>\n",
              "      <td>negative</td>\n",
              "    </tr>\n",
              "    <tr>\n",
              "      <th>3</th>\n",
              "      <td>N4</td>\n",
              "      <td>Hopefully will be able to get my iPhone 6s tod...</td>\n",
              "      <td>negative</td>\n",
              "    </tr>\n",
              "    <tr>\n",
              "      <th>4</th>\n",
              "      <td>N5</td>\n",
              "      <td>@clydesdalebank I've just bought a new iPhone ...</td>\n",
              "      <td>negative</td>\n",
              "    </tr>\n",
              "  </tbody>\n",
              "</table>\n",
              "</div>"
            ],
            "text/plain": [
              "   ID                                               Text Sentiment\n",
              "0  N1  I've had an IPhone for like 3 years and I've n...  negative\n",
              "1  N2        I dont need the new iphone but I want it :(  negative\n",
              "2  N3      fuck the iPhone 6s cus I'm not getting one :(  negative\n",
              "3  N4  Hopefully will be able to get my iPhone 6s tod...  negative\n",
              "4  N5  @clydesdalebank I've just bought a new iPhone ...  negative"
            ]
          },
          "metadata": {
            "tags": []
          },
          "execution_count": 92
        }
      ]
    },
    {
      "cell_type": "code",
      "metadata": {
        "id": "N6mLjjPQVzJW",
        "colab": {
          "base_uri": "https://localhost:8080/"
        },
        "outputId": "0c2b330b-fc95-469e-8b56-28ccd8b4d8c7"
      },
      "source": [
        "# Info for the train_data file\r\n",
        "train_data.info() "
      ],
      "execution_count": null,
      "outputs": [
        {
          "output_type": "stream",
          "text": [
            "<class 'pandas.core.frame.DataFrame'>\n",
            "Int64Index: 501 entries, 0 to 500\n",
            "Data columns (total 3 columns):\n",
            " #   Column     Non-Null Count  Dtype \n",
            "---  ------     --------------  ----- \n",
            " 0   ID         501 non-null    object\n",
            " 1   Text       501 non-null    object\n",
            " 2   Sentiment  501 non-null    object\n",
            "dtypes: object(3)\n",
            "memory usage: 15.7+ KB\n"
          ],
          "name": "stdout"
        }
      ]
    },
    {
      "cell_type": "code",
      "metadata": {
        "id": "Uu01BC2rZKRA",
        "colab": {
          "base_uri": "https://localhost:8080/",
          "height": 195
        },
        "outputId": "dd88f901-0582-46fe-a0c7-dc656df6c7fc"
      },
      "source": [
        "# Analyze the 1st 5 posts of test_data file\r\n",
        "test_data.head()"
      ],
      "execution_count": null,
      "outputs": [
        {
          "output_type": "execute_result",
          "data": {
            "text/html": [
              "<div>\n",
              "<style scoped>\n",
              "    .dataframe tbody tr th:only-of-type {\n",
              "        vertical-align: middle;\n",
              "    }\n",
              "\n",
              "    .dataframe tbody tr th {\n",
              "        vertical-align: top;\n",
              "    }\n",
              "\n",
              "    .dataframe thead th {\n",
              "        text-align: right;\n",
              "    }\n",
              "</style>\n",
              "<table border=\"1\" class=\"dataframe\">\n",
              "  <thead>\n",
              "    <tr style=\"text-align: right;\">\n",
              "      <th></th>\n",
              "      <th>ID</th>\n",
              "      <th>Text</th>\n",
              "      <th>Sentiment</th>\n",
              "    </tr>\n",
              "  </thead>\n",
              "  <tbody>\n",
              "    <tr>\n",
              "      <th>0</th>\n",
              "      <td>P1</td>\n",
              "      <td>Who is ready for iPhone 6s and iPhone 6s Plus?...</td>\n",
              "      <td>positive</td>\n",
              "    </tr>\n",
              "    <tr>\n",
              "      <th>1</th>\n",
              "      <td>P2</td>\n",
              "      <td>@lucy_larkman there are hacks on how to save h...</td>\n",
              "      <td>positive</td>\n",
              "    </tr>\n",
              "    <tr>\n",
              "      <th>2</th>\n",
              "      <td>P3</td>\n",
              "      <td>Hi Rica Cunanan : ricacunanan09 Do u want to g...</td>\n",
              "      <td>positive</td>\n",
              "    </tr>\n",
              "    <tr>\n",
              "      <th>3</th>\n",
              "      <td>P4</td>\n",
              "      <td>Hi Ariane Valentine : mainlyboredom Do u want ...</td>\n",
              "      <td>positive</td>\n",
              "    </tr>\n",
              "    <tr>\n",
              "      <th>4</th>\n",
              "      <td>P5</td>\n",
              "      <td>Hi eastside_crazii : rthompson672 Do u want to...</td>\n",
              "      <td>positive</td>\n",
              "    </tr>\n",
              "  </tbody>\n",
              "</table>\n",
              "</div>"
            ],
            "text/plain": [
              "   ID                                               Text Sentiment\n",
              "0  P1  Who is ready for iPhone 6s and iPhone 6s Plus?...  positive\n",
              "1  P2  @lucy_larkman there are hacks on how to save h...  positive\n",
              "2  P3  Hi Rica Cunanan : ricacunanan09 Do u want to g...  positive\n",
              "3  P4  Hi Ariane Valentine : mainlyboredom Do u want ...  positive\n",
              "4  P5  Hi eastside_crazii : rthompson672 Do u want to...  positive"
            ]
          },
          "metadata": {
            "tags": []
          },
          "execution_count": 94
        }
      ]
    },
    {
      "cell_type": "code",
      "metadata": {
        "id": "HzsXr0BKZVG0",
        "colab": {
          "base_uri": "https://localhost:8080/"
        },
        "outputId": "47ce4fc8-0faf-4054-b9bd-7fe18fa08aa5"
      },
      "source": [
        "# Info for the test_data file\r\n",
        "test_data.info()"
      ],
      "execution_count": null,
      "outputs": [
        {
          "output_type": "stream",
          "text": [
            "<class 'pandas.core.frame.DataFrame'>\n",
            "RangeIndex: 501 entries, 0 to 500\n",
            "Data columns (total 3 columns):\n",
            " #   Column     Non-Null Count  Dtype \n",
            "---  ------     --------------  ----- \n",
            " 0   ID         501 non-null    object\n",
            " 1   Text       501 non-null    object\n",
            " 2   Sentiment  501 non-null    object\n",
            "dtypes: object(3)\n",
            "memory usage: 11.9+ KB\n"
          ],
          "name": "stdout"
        }
      ]
    },
    {
      "cell_type": "code",
      "metadata": {
        "id": "3k4MwpExZfna",
        "colab": {
          "base_uri": "https://localhost:8080/",
          "height": 296
        },
        "outputId": "8dcb6e47-ddeb-4886-c0fa-fecea4a13215"
      },
      "source": [
        "# Diagram of the train_data file with number of posts and negantive files\r\n",
        "sns.countplot(x='Sentiment',data=train_data)"
      ],
      "execution_count": null,
      "outputs": [
        {
          "output_type": "execute_result",
          "data": {
            "text/plain": [
              "<matplotlib.axes._subplots.AxesSubplot at 0x7f00725b9128>"
            ]
          },
          "metadata": {
            "tags": []
          },
          "execution_count": 96
        },
        {
          "output_type": "display_data",
          "data": {
            "image/png": "[encoded data removed]",
            "text/plain": [
              "<Figure size 432x288 with 1 Axes>"
            ]
          },
          "metadata": {
            "tags": [],
            "needs_background": "light"
          }
        }
      ]
    },
    {
      "cell_type": "code",
      "metadata": {
        "id": "I6W32e01Zuq6"
      },
      "source": [
        "\n",
        "\n",
        " #Function to clean tweets\n",
        " #Remove URLs\n",
        " #Remove usernames (mentions)\n",
        " #Remove special characters EXCEPT FROM :,)\n",
        " #Remove Numbers \n",
        "\n",
        "\n",
        "\n",
        "def clean_tweets(tweet):\n",
        "    \n",
        "    # remove URL\n",
        "    tweet = re.sub(r\"http\\S+\", \"\", tweet)\n",
        "    \n",
        "    # Remove usernames\n",
        "    tweet = re.sub(r\"@[^\\s]+[\\s]?\",'',tweet)\n",
        "\n",
        "     # remove special characters \n",
        "    tweet = re.sub('[^ a-zA-Z0-9:)]', '', tweet)\n",
        "    \n",
        "    # remove Numbers\n",
        "    tweet = re.sub('[0-9]', '', tweet)\n",
        "    \n",
        "    \n",
        "    \n",
        "    \n",
        "    \n",
        "    return tweet\n",
        "\n"
      ],
      "execution_count": null,
      "outputs": []
    },
    {
      "cell_type": "code",
      "metadata": {
        "id": "Fe1zeVo0a9fQ"
      },
      "source": [
        "# Apply function to Text column with clean text\n",
        "train_data['Text'] = train_data['Text'].apply(clean_tweets)\n"
      ],
      "execution_count": null,
      "outputs": []
    },
    {
      "cell_type": "code",
      "metadata": {
        "colab": {
          "base_uri": "https://localhost:8080/"
        },
        "id": "V42QcdAhzaI4",
        "outputId": "83440545-279c-4fc1-829c-2e1cf299c115"
      },
      "source": [
        "#Analyze the 1st 5 posts of train_data file after cleaning with Name of column and datatype!\r\n",
        "train_data['Text'].head()"
      ],
      "execution_count": null,
      "outputs": [
        {
          "output_type": "execute_result",
          "data": {
            "text/plain": [
              "0    Ive had an IPhone for like  years and Ive neve...\n",
              "1           I dont need the new iphone but I want it :\n",
              "2           fuck the iPhone s cus Im not getting one :\n",
              "3    Hopefully will be able to get my iPhone s toda...\n",
              "4    Ive just bought a new iPhone and I cant use Ap...\n",
              "Name: Text, dtype: object"
            ]
          },
          "metadata": {
            "tags": []
          },
          "execution_count": 99
        }
      ]
    },
    {
      "cell_type": "code",
      "metadata": {
        "colab": {
          "base_uri": "https://localhost:8080/"
        },
        "id": "KxSsoA8obUEs",
        "outputId": "feb00105-927d-45ee-838b-a4bbf9fa2470"
      },
      "source": [
        "# Give text input for testing your post!\n",
        "# After clean tweet and print it!\n",
        "\n",
        "y= input(\"Type your post for analysis:\")\n",
        "x=clean_tweets(y)\n",
        "print(x)\n",
        "\n"
      ],
      "execution_count": null,
      "outputs": [
        {
          "output_type": "stream",
          "text": [
            "Type your post for analysis:@nikos Fuck you\n",
            "Fuck you\n"
          ],
          "name": "stdout"
        }
      ]
    },
    {
      "cell_type": "code",
      "metadata": {
        "colab": {
          "base_uri": "https://localhost:8080/"
        },
        "id": "R9sp8Owog5v8",
        "outputId": "f5c3edac-d70d-44d4-b38b-8cfda4607d58"
      },
      "source": [
        "# Using textblob library for data analysis \n",
        "# After sentiment and polarity for calculate the emotion of the post and print it for testing!\n",
        "text= TextBlob(x)\n",
        "\n",
        "\n",
        "z = text.sentiment.polarity\n",
        "\n",
        "print (z)\n",
        "\n",
        "\n",
        "\n"
      ],
      "execution_count": null,
      "outputs": [
        {
          "output_type": "stream",
          "text": [
            "-0.4\n"
          ],
          "name": "stdout"
        }
      ]
    },
    {
      "cell_type": "code",
      "metadata": {
        "colab": {
          "base_uri": "https://localhost:8080/"
        },
        "id": "koTCKEHUg5yj",
        "outputId": "0ffa2fb1-ee2b-41c9-ea6e-3e7e835e5568"
      },
      "source": [
        "# Using if statement for printing if it is positive or negative!\n",
        "\n",
        "if z==0: \n",
        "    print(\"Neutral\")\n",
        "elif z<0:\n",
        "    print(\"Negative\")\n",
        "else:\n",
        "    print(\"Positive\")"
      ],
      "execution_count": null,
      "outputs": [
        {
          "output_type": "stream",
          "text": [
            "Negative\n"
          ],
          "name": "stdout"
        }
      ]
    }
  ]
}