{
  "nbformat": 4,
  "nbformat_minor": 0,
  "metadata": {
    "colab": {
      "name": "Copy of TweetSentiment.ipynb",
      "provenance": [],
      "collapsed_sections": []
    },
    "kernelspec": {
      "name": "python3",
      "display_name": "Python 3"
    }
  },
  "cells": [
    {
      "cell_type": "code",
      "metadata": {
        "colab": {
          "base_uri": "https://localhost:8080/"
        },
        "id": "nVpOi6fcPK16",
        "outputId": "34687943-4dbb-4551-8ba8-76edbe838a2c"
      },
      "source": [
        "import pandas as pd\n",
        "#open source data analysis and manipulation tool\n",
        "import nltk\n",
        "# Natural Language Toolkit\n",
        "import seaborn as sns \n",
        "#Library for diagrams\n",
        "from textblob import TextBlob\n",
        "#Library for processing textual data\n",
        "import re as regex\n",
        "import re\n",
        "nltk.download('punkt')  \n",
        "# Natural Language Toolkit\n",
        "from collections import Counter\n",
        "# sklearn library for train-test,accuracy-recall-precision score and time\n",
        "from sklearn.model_selection import train_test_split, cross_val_score, GridSearchCV, RandomizedSearchCV\n",
        "# time library for calculate time\n",
        "from time import time\n",
        "#precision, recall and and accuracy score from sklearn.metrics libraty  \n",
        "from sklearn.metrics import f1_score, precision_score, recall_score, accuracy_score\n",
        "\n"
      ],
      "execution_count": null,
      "outputs": [
        {
          "output_type": "stream",
          "text": [
            "[nltk_data] Downloading package punkt to /root/nltk_data...\n",
            "[nltk_data]   Package punkt is already up-to-date!\n"
          ],
          "name": "stdout"
        }
      ]
    },
    {
      "cell_type": "code",
      "metadata": {
        "id": "an1k3YsWPWDO"
      },
      "source": [
        "#Read .csv files into train and test data with the right encoding!\n",
        "train_data = pd.read_csv('/content/SocialMedia_Negative.csv', encoding= 'unicode_escape')\n",
        "test_data = pd.read_csv('/content/SocialMedia_Positive.csv', encoding= 'unicode_escape')\n",
        "\n",
        "\n",
        "\n",
        "\n",
        "\n"
      ],
      "execution_count": 24,
      "outputs": []
    },
    {
      "cell_type": "code",
      "metadata": {
        "id": "S2Kira26Vy4Z",
        "colab": {
          "base_uri": "https://localhost:8080/",
          "height": 195
        },
        "outputId": "e39ab59c-b1f9-40cd-eba9-33393c56a149"
      },
      "source": [
        "# Analyze the 1st 5 posts of train_data file\r\n",
        "train_data.head() "
      ],
      "execution_count": 25,
      "outputs": [
        {
          "output_type": "execute_result",
          "data": {
            "text/html": [
              "<div>\n",
              "<style scoped>\n",
              "    .dataframe tbody tr th:only-of-type {\n",
              "        vertical-align: middle;\n",
              "    }\n",
              "\n",
              "    .dataframe tbody tr th {\n",
              "        vertical-align: top;\n",
              "    }\n",
              "\n",
              "    .dataframe thead th {\n",
              "        text-align: right;\n",
              "    }\n",
              "</style>\n",
              "<table border=\"1\" class=\"dataframe\">\n",
              "  <thead>\n",
              "    <tr style=\"text-align: right;\">\n",
              "      <th></th>\n",
              "      <th>ID</th>\n",
              "      <th>Text</th>\n",
              "      <th>Sentiment</th>\n",
              "    </tr>\n",
              "  </thead>\n",
              "  <tbody>\n",
              "    <tr>\n",
              "      <th>0</th>\n",
              "      <td>N1</td>\n",
              "      <td>I've had an IPhone for like 3 years and I've n...</td>\n",
              "      <td>negative</td>\n",
              "    </tr>\n",
              "    <tr>\n",
              "      <th>1</th>\n",
              "      <td>N2</td>\n",
              "      <td>I dont need the new iphone but I want it :(</td>\n",
              "      <td>negative</td>\n",
              "    </tr>\n",
              "    <tr>\n",
              "      <th>2</th>\n",
              "      <td>N3</td>\n",
              "      <td>fuck the iPhone 6s cus I'm not getting one :(</td>\n",
              "      <td>negative</td>\n",
              "    </tr>\n",
              "    <tr>\n",
              "      <th>3</th>\n",
              "      <td>N4</td>\n",
              "      <td>Hopefully will be able to get my iPhone 6s tod...</td>\n",
              "      <td>negative</td>\n",
              "    </tr>\n",
              "    <tr>\n",
              "      <th>4</th>\n",
              "      <td>N5</td>\n",
              "      <td>@clydesdalebank I've just bought a new iPhone ...</td>\n",
              "      <td>negative</td>\n",
              "    </tr>\n",
              "  </tbody>\n",
              "</table>\n",
              "</div>"
            ],
            "text/plain": [
              "   ID                                               Text Sentiment\n",
              "0  N1  I've had an IPhone for like 3 years and I've n...  negative\n",
              "1  N2        I dont need the new iphone but I want it :(  negative\n",
              "2  N3      fuck the iPhone 6s cus I'm not getting one :(  negative\n",
              "3  N4  Hopefully will be able to get my iPhone 6s tod...  negative\n",
              "4  N5  @clydesdalebank I've just bought a new iPhone ...  negative"
            ]
          },
          "metadata": {
            "tags": []
          },
          "execution_count": 25
        }
      ]
    },
    {
      "cell_type": "code",
      "metadata": {
        "id": "N6mLjjPQVzJW",
        "colab": {
          "base_uri": "https://localhost:8080/"
        },
        "outputId": "d73e1c12-85b5-4696-e7b4-3a1778494fb2"
      },
      "source": [
        "# Info for the train_data file\r\n",
        "train_data.info() "
      ],
      "execution_count": 26,
      "outputs": [
        {
          "output_type": "stream",
          "text": [
            "<class 'pandas.core.frame.DataFrame'>\n",
            "RangeIndex: 501 entries, 0 to 500\n",
            "Data columns (total 3 columns):\n",
            " #   Column     Non-Null Count  Dtype \n",
            "---  ------     --------------  ----- \n",
            " 0   ID         501 non-null    object\n",
            " 1   Text       501 non-null    object\n",
            " 2   Sentiment  501 non-null    object\n",
            "dtypes: object(3)\n",
            "memory usage: 11.9+ KB\n"
          ],
          "name": "stdout"
        }
      ]
    },
    {
      "cell_type": "code",
      "metadata": {
        "id": "Uu01BC2rZKRA",
        "colab": {
          "base_uri": "https://localhost:8080/",
          "height": 195
        },
        "outputId": "b39f818f-293b-400f-d54a-92551595995c"
      },
      "source": [
        "# Analyze the 1st 5 posts of test_data file\r\n",
        "test_data.head()"
      ],
      "execution_count": 27,
      "outputs": [
        {
          "output_type": "execute_result",
          "data": {
            "text/html": [
              "<div>\n",
              "<style scoped>\n",
              "    .dataframe tbody tr th:only-of-type {\n",
              "        vertical-align: middle;\n",
              "    }\n",
              "\n",
              "    .dataframe tbody tr th {\n",
              "        vertical-align: top;\n",
              "    }\n",
              "\n",
              "    .dataframe thead th {\n",
              "        text-align: right;\n",
              "    }\n",
              "</style>\n",
              "<table border=\"1\" class=\"dataframe\">\n",
              "  <thead>\n",
              "    <tr style=\"text-align: right;\">\n",
              "      <th></th>\n",
              "      <th>ID</th>\n",
              "      <th>Text</th>\n",
              "      <th>Sentiment</th>\n",
              "    </tr>\n",
              "  </thead>\n",
              "  <tbody>\n",
              "    <tr>\n",
              "      <th>0</th>\n",
              "      <td>P1</td>\n",
              "      <td>Who is ready for iPhone 6s and iPhone 6s Plus?...</td>\n",
              "      <td>positive</td>\n",
              "    </tr>\n",
              "    <tr>\n",
              "      <th>1</th>\n",
              "      <td>P2</td>\n",
              "      <td>@lucy_larkman there are hacks on how to save h...</td>\n",
              "      <td>positive</td>\n",
              "    </tr>\n",
              "    <tr>\n",
              "      <th>2</th>\n",
              "      <td>P3</td>\n",
              "      <td>Hi Rica Cunanan : ricacunanan09 Do u want to g...</td>\n",
              "      <td>positive</td>\n",
              "    </tr>\n",
              "    <tr>\n",
              "      <th>3</th>\n",
              "      <td>P4</td>\n",
              "      <td>Hi Ariane Valentine : mainlyboredom Do u want ...</td>\n",
              "      <td>positive</td>\n",
              "    </tr>\n",
              "    <tr>\n",
              "      <th>4</th>\n",
              "      <td>P5</td>\n",
              "      <td>Hi eastside_crazii : rthompson672 Do u want to...</td>\n",
              "      <td>positive</td>\n",
              "    </tr>\n",
              "  </tbody>\n",
              "</table>\n",
              "</div>"
            ],
            "text/plain": [
              "   ID                                               Text Sentiment\n",
              "0  P1  Who is ready for iPhone 6s and iPhone 6s Plus?...  positive\n",
              "1  P2  @lucy_larkman there are hacks on how to save h...  positive\n",
              "2  P3  Hi Rica Cunanan : ricacunanan09 Do u want to g...  positive\n",
              "3  P4  Hi Ariane Valentine : mainlyboredom Do u want ...  positive\n",
              "4  P5  Hi eastside_crazii : rthompson672 Do u want to...  positive"
            ]
          },
          "metadata": {
            "tags": []
          },
          "execution_count": 27
        }
      ]
    },
    {
      "cell_type": "code",
      "metadata": {
        "id": "HzsXr0BKZVG0",
        "colab": {
          "base_uri": "https://localhost:8080/"
        },
        "outputId": "bed53889-3617-4ddf-91d2-06e503784028"
      },
      "source": [
        "# Info for the test_data file\r\n",
        "test_data.info()"
      ],
      "execution_count": 28,
      "outputs": [
        {
          "output_type": "stream",
          "text": [
            "<class 'pandas.core.frame.DataFrame'>\n",
            "RangeIndex: 501 entries, 0 to 500\n",
            "Data columns (total 3 columns):\n",
            " #   Column     Non-Null Count  Dtype \n",
            "---  ------     --------------  ----- \n",
            " 0   ID         501 non-null    object\n",
            " 1   Text       501 non-null    object\n",
            " 2   Sentiment  501 non-null    object\n",
            "dtypes: object(3)\n",
            "memory usage: 11.9+ KB\n"
          ],
          "name": "stdout"
        }
      ]
    },
    {
      "cell_type": "code",
      "metadata": {
        "id": "3k4MwpExZfna",
        "colab": {
          "base_uri": "https://localhost:8080/",
          "height": 296
        },
        "outputId": "f0a43876-002b-4ab6-d8cc-19d42baa98ae"
      },
      "source": [
        "# Diagram of the train_data file with number of posts and negantive files\r\n",
        "sns.countplot(x='Sentiment',data=train_data)"
      ],
      "execution_count": 29,
      "outputs": [
        {
          "output_type": "execute_result",
          "data": {
            "text/plain": [
              "<matplotlib.axes._subplots.AxesSubplot at 0x7f40e67b2eb8>"
            ]
          },
          "metadata": {
            "tags": []
          },
          "execution_count": 29
        },
        {
          "output_type": "display_data",
          "data": {
            "image/png": "[encoded data removed]",
            "text/plain": [
              "<Figure size 432x288 with 1 Axes>"
            ]
          },
          "metadata": {
            "tags": [],
            "needs_background": "light"
          }
        }
      ]
    },
    {
      "cell_type": "code",
      "metadata": {
        "id": "1R3T4hUNTgrP"
      },
      "source": [
        "# remove tweets with empty sentiment column\r\n",
        "\r\n",
        "train_data = train_data[train_data['Sentiment'] != \"\"]\r\n",
        "\r\n"
      ],
      "execution_count": 30,
      "outputs": []
    },
    {
      "cell_type": "code",
      "metadata": {
        "colab": {
          "base_uri": "https://localhost:8080/"
        },
        "id": "FJhWRkWwUFNx",
        "outputId": "f52d085c-6bc9-4ef4-b681-3678fc63ba69"
      },
      "source": [
        "train_data.info()"
      ],
      "execution_count": 31,
      "outputs": [
        {
          "output_type": "stream",
          "text": [
            "<class 'pandas.core.frame.DataFrame'>\n",
            "Int64Index: 501 entries, 0 to 500\n",
            "Data columns (total 3 columns):\n",
            " #   Column     Non-Null Count  Dtype \n",
            "---  ------     --------------  ----- \n",
            " 0   ID         501 non-null    object\n",
            " 1   Text       501 non-null    object\n",
            " 2   Sentiment  501 non-null    object\n",
            "dtypes: object(3)\n",
            "memory usage: 15.7+ KB\n"
          ],
          "name": "stdout"
        }
      ]
    },
    {
      "cell_type": "code",
      "metadata": {
        "id": "I6W32e01Zuq6"
      },
      "source": [
        "\n",
        "\n",
        " #Function to clean tweets\n",
        " #Remove URLs\n",
        " #Remove usernames (mentions)\n",
        " #Remove special characters EXCEPT FROM :,)\n",
        " #Remove Numbers \n",
        "\n",
        "\n",
        "\n",
        "def clean_tweets(tweet):\n",
        "    \n",
        "    # remove URL\n",
        "    tweet = re.sub(r\"http\\S+\", \"\", tweet)\n",
        "    \n",
        "    # Remove usernames\n",
        "    tweet = re.sub(r\"@[^\\s]+[\\s]?\",'',tweet)\n",
        "\n",
        "     # remove special characters \n",
        "    tweet = re.sub('[^ a-zA-Z0-9]' , '', tweet)\n",
        "    \n",
        "    # remove Numbers\n",
        "    tweet = re.sub('[0-9]', '', tweet)\n",
        "    \n",
        "    \n",
        "    \n",
        "    \n",
        "    \n",
        "    return tweet\n",
        "\n"
      ],
      "execution_count": 32,
      "outputs": []
    },
    {
      "cell_type": "code",
      "metadata": {
        "id": "Fe1zeVo0a9fQ"
      },
      "source": [
        "# Apply function to Text column with clean text\n",
        "train_data['Text'] = train_data['Text'].apply(clean_tweets)\n"
      ],
      "execution_count": 33,
      "outputs": []
    },
    {
      "cell_type": "code",
      "metadata": {
        "colab": {
          "base_uri": "https://localhost:8080/"
        },
        "id": "V42QcdAhzaI4",
        "outputId": "d9ad0acf-9a7b-4106-c24e-74447630a850"
      },
      "source": [
        "#Analyze the 1st 5 posts of train_data file after cleaning with Name of column and datatype!\r\n",
        "train_data['Text'].head()"
      ],
      "execution_count": 34,
      "outputs": [
        {
          "output_type": "execute_result",
          "data": {
            "text/plain": [
              "0    Ive had an IPhone for like  years and Ive neve...\n",
              "1            I dont need the new iphone but I want it \n",
              "2            fuck the iPhone s cus Im not getting one \n",
              "3    Hopefully will be able to get my iPhone s toda...\n",
              "4    Ive just bought a new iPhone and I cant use Ap...\n",
              "Name: Text, dtype: object"
            ]
          },
          "metadata": {
            "tags": []
          },
          "execution_count": 34
        }
      ]
    },
    {
      "cell_type": "code",
      "metadata": {
        "colab": {
          "base_uri": "https://localhost:8080/"
        },
        "id": "9yufH4g6UsPL",
        "outputId": "eb6ee6f5-86ed-4330-e11b-b107d0de97b6"
      },
      "source": [
        "# Function which directly tokenize the text data\r\n",
        "from nltk.tokenize import TweetTokenizer\r\n",
        "\r\n",
        "tt = TweetTokenizer()\r\n",
        "train_data['Text'].apply(tt.tokenize)"
      ],
      "execution_count": 35,
      "outputs": [
        {
          "output_type": "execute_result",
          "data": {
            "text/plain": [
              "0      [Ive, had, an, IPhone, for, like, years, and, ...\n",
              "1      [I, dont, need, the, new, iphone, but, I, want...\n",
              "2      [fuck, the, iPhone, s, cus, Im, not, getting, ...\n",
              "3      [Hopefully, will, be, able, to, get, my, iPhon...\n",
              "4      [Ive, just, bought, a, new, iPhone, and, I, ca...\n",
              "                             ...                        \n",
              "496    [Does, anyone, have, an, extra, iPhone, case, ...\n",
              "497    [I, think, its, the, first, iPhone, that, I, d...\n",
              "498    [HomeOfTechUS, been, using, an, iPhone, with, ...\n",
              "499                          [I, need, the, new, iPhone]\n",
              "500    [yeah, I, was, getting, loads, of, pop, up, ad...\n",
              "Name: Text, Length: 501, dtype: object"
            ]
          },
          "metadata": {
            "tags": []
          },
          "execution_count": 35
        }
      ]
    },
    {
      "cell_type": "code",
      "metadata": {
        "id": "LOuK7HZUUyVj"
      },
      "source": [
        "from nltk.stem import PorterStemmer\r\n",
        "from nltk.tokenize import sent_tokenize, word_tokenize\r\n",
        "\r\n",
        "ps = PorterStemmer()"
      ],
      "execution_count": 36,
      "outputs": []
    },
    {
      "cell_type": "code",
      "metadata": {
        "id": "WuZ-KGzgUz6-"
      },
      "source": [
        "def tokenize(text):\r\n",
        "    return word_tokenize(text)\r\n",
        "\r\n",
        "def stemming(words):\r\n",
        "    stem_words = []\r\n",
        "    for w in words:\r\n",
        "        w = ps.stem(w)\r\n",
        "        stem_words.append(w)\r\n",
        "    \r\n",
        "    return stem_words"
      ],
      "execution_count": 37,
      "outputs": []
    },
    {
      "cell_type": "code",
      "metadata": {
        "id": "xayXJboYU0Ej"
      },
      "source": [
        "# apply tokenize function\r\n",
        "train_data['text'] = train_data['Text'].apply(tokenize)"
      ],
      "execution_count": 38,
      "outputs": []
    },
    {
      "cell_type": "code",
      "metadata": {
        "id": "QHM3tt98U_xt"
      },
      "source": [
        "# apply steming function\r\n",
        "train_data['tokenized'] = train_data['text'].apply(stemming)"
      ],
      "execution_count": 39,
      "outputs": []
    },
    {
      "cell_type": "code",
      "metadata": {
        "colab": {
          "base_uri": "https://localhost:8080/",
          "height": 195
        },
        "id": "TtYZ_SwnVABN",
        "outputId": "0ffdee5c-8779-4d0a-9c4f-fe6ae50fce88"
      },
      "source": [
        "train_data.head()"
      ],
      "execution_count": 40,
      "outputs": [
        {
          "output_type": "execute_result",
          "data": {
            "text/html": [
              "<div>\n",
              "<style scoped>\n",
              "    .dataframe tbody tr th:only-of-type {\n",
              "        vertical-align: middle;\n",
              "    }\n",
              "\n",
              "    .dataframe tbody tr th {\n",
              "        vertical-align: top;\n",
              "    }\n",
              "\n",
              "    .dataframe thead th {\n",
              "        text-align: right;\n",
              "    }\n",
              "</style>\n",
              "<table border=\"1\" class=\"dataframe\">\n",
              "  <thead>\n",
              "    <tr style=\"text-align: right;\">\n",
              "      <th></th>\n",
              "      <th>ID</th>\n",
              "      <th>Text</th>\n",
              "      <th>Sentiment</th>\n",
              "      <th>text</th>\n",
              "      <th>tokenized</th>\n",
              "    </tr>\n",
              "  </thead>\n",
              "  <tbody>\n",
              "    <tr>\n",
              "      <th>0</th>\n",
              "      <td>N1</td>\n",
              "      <td>Ive had an IPhone for like  years and Ive neve...</td>\n",
              "      <td>negative</td>\n",
              "      <td>[Ive, had, an, IPhone, for, like, years, and, ...</td>\n",
              "      <td>[ive, had, an, iphon, for, like, year, and, iv...</td>\n",
              "    </tr>\n",
              "    <tr>\n",
              "      <th>1</th>\n",
              "      <td>N2</td>\n",
              "      <td>I dont need the new iphone but I want it</td>\n",
              "      <td>negative</td>\n",
              "      <td>[I, dont, need, the, new, iphone, but, I, want...</td>\n",
              "      <td>[I, dont, need, the, new, iphon, but, I, want,...</td>\n",
              "    </tr>\n",
              "    <tr>\n",
              "      <th>2</th>\n",
              "      <td>N3</td>\n",
              "      <td>fuck the iPhone s cus Im not getting one</td>\n",
              "      <td>negative</td>\n",
              "      <td>[fuck, the, iPhone, s, cus, Im, not, getting, ...</td>\n",
              "      <td>[fuck, the, iphon, s, cu, Im, not, get, one]</td>\n",
              "    </tr>\n",
              "    <tr>\n",
              "      <th>3</th>\n",
              "      <td>N4</td>\n",
              "      <td>Hopefully will be able to get my iPhone s toda...</td>\n",
              "      <td>negative</td>\n",
              "      <td>[Hopefully, will, be, able, to, get, my, iPhon...</td>\n",
              "      <td>[hope, will, be, abl, to, get, my, iphon, s, t...</td>\n",
              "    </tr>\n",
              "    <tr>\n",
              "      <th>4</th>\n",
              "      <td>N5</td>\n",
              "      <td>Ive just bought a new iPhone and I cant use Ap...</td>\n",
              "      <td>negative</td>\n",
              "      <td>[Ive, just, bought, a, new, iPhone, and, I, ca...</td>\n",
              "      <td>[ive, just, bought, a, new, iphon, and, I, can...</td>\n",
              "    </tr>\n",
              "  </tbody>\n",
              "</table>\n",
              "</div>"
            ],
            "text/plain": [
              "   ID  ...                                          tokenized\n",
              "0  N1  ...  [ive, had, an, iphon, for, like, year, and, iv...\n",
              "1  N2  ...  [I, dont, need, the, new, iphon, but, I, want,...\n",
              "2  N3  ...       [fuck, the, iphon, s, cu, Im, not, get, one]\n",
              "3  N4  ...  [hope, will, be, abl, to, get, my, iphon, s, t...\n",
              "4  N5  ...  [ive, just, bought, a, new, iphon, and, I, can...\n",
              "\n",
              "[5 rows x 5 columns]"
            ]
          },
          "metadata": {
            "tags": []
          },
          "execution_count": 40
        }
      ]
    },
    {
      "cell_type": "code",
      "metadata": {
        "colab": {
          "base_uri": "https://localhost:8080/"
        },
        "id": "rNdZmxmvVAEa",
        "outputId": "5cd1d328-dae7-4f11-88f1-22013945bb4a"
      },
      "source": [
        "words = Counter()\r\n",
        "for idx in train_data.index:\r\n",
        "    words.update(train_data.loc[idx, \"text\"])\r\n",
        "\r\n",
        "words.most_common(5)"
      ],
      "execution_count": 41,
      "outputs": [
        {
          "output_type": "execute_result",
          "data": {
            "text/plain": [
              "[('iPhone', 352), ('I', 245), ('the', 245), ('my', 186), ('to', 165)]"
            ]
          },
          "metadata": {
            "tags": []
          },
          "execution_count": 41
        }
      ]
    },
    {
      "cell_type": "code",
      "metadata": {
        "colab": {
          "base_uri": "https://localhost:8080/"
        },
        "id": "_locqyG1VAGY",
        "outputId": "f50d0161-5e25-443d-e0ce-5bf253bec46a"
      },
      "source": [
        "nltk.download('stopwords')\r\n",
        "stopwords=nltk.corpus.stopwords.words(\"english\")"
      ],
      "execution_count": 42,
      "outputs": [
        {
          "output_type": "stream",
          "text": [
            "[nltk_data] Downloading package stopwords to /root/nltk_data...\n",
            "[nltk_data]   Unzipping corpora/stopwords.zip.\n"
          ],
          "name": "stdout"
        }
      ]
    },
    {
      "cell_type": "code",
      "metadata": {
        "colab": {
          "base_uri": "https://localhost:8080/"
        },
        "id": "dv9QziH7VrZF",
        "outputId": "bf7917a0-e615-4c0e-e65e-46a5add4362f"
      },
      "source": [
        "whitelist = [\"n't\", \"not\"]\r\n",
        "for idx, stop_word in enumerate(stopwords):\r\n",
        "    if stop_word not in whitelist:\r\n",
        "        del words[stop_word]\r\n",
        "words.most_common(5)"
      ],
      "execution_count": 43,
      "outputs": [
        {
          "output_type": "execute_result",
          "data": {
            "text/plain": [
              "[('iPhone', 352), ('I', 245), ('iphone', 103), ('new', 84), ('want', 78)]"
            ]
          },
          "metadata": {
            "tags": []
          },
          "execution_count": 43
        }
      ]
    },
    {
      "cell_type": "code",
      "metadata": {
        "id": "casfmCgTVrbt"
      },
      "source": [
        "def word_list(processed_data):\r\n",
        "    #print(processed_data)\r\n",
        "    min_occurrences=3 \r\n",
        "    max_occurences=500 \r\n",
        "    stopwords=nltk.corpus.stopwords.words(\"english\")\r\n",
        "    whitelist = [\"n't\",\"not\"]\r\n",
        "    wordlist = []\r\n",
        "    \r\n",
        "    whitelist = whitelist if whitelist is None else whitelist\r\n",
        "    \r\n",
        "    words = Counter()\r\n",
        "    for idx in processed_data.index:\r\n",
        "        words.update(processed_data.loc[idx, \"text\"])\r\n",
        "\r\n",
        "    for idx, stop_word in enumerate(stopwords):\r\n",
        "        if stop_word not in whitelist:\r\n",
        "            del words[stop_word]\r\n",
        "    #print(words)\r\n",
        "\r\n",
        "    word_df = pd.DataFrame(data={\"word\": [k for k, v in words.most_common() if min_occurrences < v < max_occurences],\r\n",
        "                                 \"occurrences\": [v for k, v in words.most_common() if min_occurrences < v < max_occurences]},\r\n",
        "                           columns=[\"word\", \"occurrences\"])\r\n",
        "    #print(word_df)\r\n",
        "    word_df.to_csv(\"wordlist.csv\", index_label=\"idx\")\r\n",
        "    wordlist = [k for k, v in words.most_common() if min_occurrences < v < max_occurences]\r\n",
        "    #print(wordlist)"
      ],
      "execution_count": 44,
      "outputs": []
    },
    {
      "cell_type": "code",
      "metadata": {
        "id": "lw2M-5clVre4"
      },
      "source": [
        "word_list(train_data)"
      ],
      "execution_count": 45,
      "outputs": []
    },
    {
      "cell_type": "code",
      "metadata": {
        "id": "UzeoAT34VrhK"
      },
      "source": [
        "words = pd.read_csv(\"wordlist.csv\")"
      ],
      "execution_count": 46,
      "outputs": []
    },
    {
      "cell_type": "code",
      "metadata": {
        "id": "ghZcwPjGWRsz"
      },
      "source": [
        "import os"
      ],
      "execution_count": 47,
      "outputs": []
    },
    {
      "cell_type": "code",
      "metadata": {
        "id": "ZBWrKVN6WRv3"
      },
      "source": [
        "wordlist= []\r\n",
        "if os.path.isfile(\"wordlist.csv\"):\r\n",
        "    word_df = pd.read_csv(\"wordlist.csv\")\r\n",
        "    word_df = word_df[word_df[\"occurrences\"] > 3]\r\n",
        "    wordlist = list(word_df.loc[:, \"word\"])\r\n",
        "\r\n",
        "label_column = [\"label\"]\r\n",
        "columns = label_column + list(map(lambda w: w + \"_bow\",wordlist))\r\n",
        "labels = []\r\n",
        "rows = []\r\n",
        "for idx in train_data.index:\r\n",
        "    current_row = []\r\n",
        "    \r\n",
        "    # add label\r\n",
        "    current_label = train_data.loc[idx, \"Sentiment\"]\r\n",
        "    labels.append(current_label)\r\n",
        "    current_row.append(current_label)\r\n",
        "\r\n",
        "    # add bag-of-words\r\n",
        "    tokens = set(train_data.loc[idx, \"text\"])\r\n",
        "    for _, word in enumerate(wordlist):\r\n",
        "        current_row.append(1 if word in tokens else 0)\r\n",
        "\r\n",
        "    rows.append(current_row)\r\n",
        "\r\n",
        "data_model = pd.DataFrame(rows, columns=columns)\r\n",
        "data_labels = pd.Series(labels)\r\n",
        "\r\n",
        "\r\n",
        "bow = data_model"
      ],
      "execution_count": 48,
      "outputs": []
    },
    {
      "cell_type": "code",
      "metadata": {
        "id": "V4J1pnmgWRy_"
      },
      "source": [
        "import random\r\n",
        "seed = 777\r\n",
        "random.seed(seed)"
      ],
      "execution_count": 49,
      "outputs": []
    },
    {
      "cell_type": "code",
      "metadata": {
        "id": "MYGbDLl4WR2C"
      },
      "source": [
        "def test_classifier(X_train, y_train, X_test, y_test, classifier):\r\n",
        "    log(\"\")\r\n",
        "    log(\"---------------------------------------------------------\")\r\n",
        "    log(\"Testing \" + str(type(classifier).__name__))\r\n",
        "    now = time()\r\n",
        "    list_of_labels = sorted(list(set(y_train)))\r\n",
        "    model = classifier.fit(X_train, y_train)\r\n",
        "    log(\"Learing time {0}s\".format(time() - now))\r\n",
        "    now = time()\r\n",
        "    predictions = model.predict(X_test)\r\n",
        "    log(\"Predicting time {0}s\".format(time() - now))\r\n",
        "\r\n",
        "    # Calculate Accuracy, Precision, recall\r\n",
        "    \r\n",
        "    precision = precision_score(y_test, predictions, average=None, pos_label=None, labels=list_of_labels)\r\n",
        "    recall = recall_score(y_test, predictions, average=None, pos_label=None, labels=list_of_labels)\r\n",
        "    accuracy = accuracy_score(y_test, predictions)\r\n",
        "    f1 = f1_score(y_test, predictions, average=None, pos_label=None, labels=list_of_labels)\r\n",
        "    \r\n",
        "    log(\"=================== Results ===================\")\r\n",
        "    log(\"            Negative     Neutral     Positive\")\r\n",
        "    log(\"F1       \" + str(f1))\r\n",
        "    log(\"Precision\" + str(precision))\r\n",
        "    log(\"Recall   \" + str(recall))\r\n",
        "    log(\"Accuracy \" + str(accuracy))\r\n",
        "    log(\"===============================================\")\r\n",
        "\r\n",
        "    return precision, recall, accuracy, f1\r\n",
        "\r\n",
        "def log(x):\r\n",
        "    #can be used to write to log file\r\n",
        "    print(x)"
      ],
      "execution_count": 50,
      "outputs": []
    },
    {
      "cell_type": "code",
      "metadata": {
        "colab": {
          "base_uri": "https://localhost:8080/"
        },
        "id": "EoclLwGCWR5D",
        "outputId": "3d642937-34f5-4fba-cbfc-ab9a290a4be7"
      },
      "source": [
        "\r\n",
        "from sklearn.naive_bayes import BernoulliNB\r\n",
        "X_train, X_test, y_train, y_test = train_test_split(bow.iloc[:, 1:], bow['label'], test_size=0.3)\r\n",
        "precision, recall, accuracy, f1 = test_classifier(X_train, y_train, X_test, y_test, BernoulliNB())"
      ],
      "execution_count": 51,
      "outputs": [
        {
          "output_type": "stream",
          "text": [
            "\n",
            "---------------------------------------------------------\n",
            "Testing BernoulliNB\n",
            "Learing time 0.006237506866455078s\n",
            "Predicting time 0.002290010452270508s\n",
            "=================== Results ===================\n",
            "            Negative     Neutral     Positive\n",
            "F1       [1.]\n",
            "Precision[1.]\n",
            "Recall   [1.]\n",
            "Accuracy 1.0\n",
            "===============================================\n"
          ],
          "name": "stdout"
        }
      ]
    },
    {
      "cell_type": "code",
      "metadata": {
        "id": "8wpNcPdfWR8a"
      },
      "source": [
        "def cv(classifier, X_train, y_train):\r\n",
        "    log(\"===============================================\")\r\n",
        "    classifier_name = str(type(classifier).__name__)\r\n",
        "    now = time()\r\n",
        "    log(\"Crossvalidating \" + classifier_name + \"...\")\r\n",
        "    accuracy = [cross_val_score(classifier, X_train, y_train, cv=8, n_jobs=-1)]\r\n",
        "    log(\"Crosvalidation completed in {0}s\".format(time() - now))\r\n",
        "    log(\"Accuracy: \" + str(accuracy[0]))\r\n",
        "    log(\"Average accuracy: \" + str(np.array(accuracy[0]).mean()))\r\n",
        "    log(\"===============================================\")\r\n",
        "    return accuracy"
      ],
      "execution_count": 52,
      "outputs": []
    },
    {
      "cell_type": "code",
      "metadata": {
        "id": "KxSsoA8obUEs",
        "colab": {
          "base_uri": "https://localhost:8080/"
        },
        "outputId": "65f489f7-2773-4357-b714-a1de00827f50"
      },
      "source": [
        "# Give text input for testing your post!\n",
        "# After clean tweet and print it!\n",
        "\n",
        "y= input(\"Type your post for analysis:\")\n",
        "x=clean_tweets(y)\n",
        "print(x)\n",
        "\n"
      ],
      "execution_count": 53,
      "outputs": [
        {
          "output_type": "stream",
          "text": [
            "Type your post for analysis:ohh fuck it :(\n",
            "ohh fuck it \n"
          ],
          "name": "stdout"
        }
      ]
    },
    {
      "cell_type": "code",
      "metadata": {
        "colab": {
          "base_uri": "https://localhost:8080/"
        },
        "id": "R9sp8Owog5v8",
        "outputId": "09a3bc6c-f6ee-45f6-d97a-29722842de98"
      },
      "source": [
        "# Using textblob library for data analysis \n",
        "# After sentiment and polarity for calculate the emotion of the post and print it for testing!\n",
        "text= TextBlob(y)\n",
        "\n",
        "\n",
        "z = text.sentiment.polarity\n",
        "\n",
        "print (z)\n",
        "\n",
        "\n",
        "\n"
      ],
      "execution_count": 54,
      "outputs": [
        {
          "output_type": "stream",
          "text": [
            "-0.575\n"
          ],
          "name": "stdout"
        }
      ]
    },
    {
      "cell_type": "code",
      "metadata": {
        "colab": {
          "base_uri": "https://localhost:8080/"
        },
        "id": "koTCKEHUg5yj",
        "outputId": "f17b4565-989e-408a-bb2a-78e403802e72"
      },
      "source": [
        "# Using if statement for printing if it is positive or negative!\n",
        "\n",
        "if z==0: \n",
        "    print(\"Neutral\")\n",
        "elif z<0:\n",
        "    print(\"Negative\")\n",
        "else:\n",
        "    print(\"Positive\")"
      ],
      "execution_count": 55,
      "outputs": [
        {
          "output_type": "stream",
          "text": [
            "Negative\n"
          ],
          "name": "stdout"
        }
      ]
    }
  ]
}