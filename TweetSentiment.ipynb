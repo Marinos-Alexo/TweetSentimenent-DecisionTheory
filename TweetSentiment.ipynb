{
  "nbformat": 4,
  "nbformat_minor": 0,
  "metadata": {
    "colab": {
      "name": "Copy of TweetSentiment.ipynb",
      "provenance": [],
      "collapsed_sections": []
    },
    "kernelspec": {
      "name": "python3",
      "display_name": "Python 3"
    }
  },
  "cells": [
    {
      "cell_type": "code",
      "metadata": {
        "colab": {
          "base_uri": "https://localhost:8080/"
        },
        "id": "nVpOi6fcPK16",
        "outputId": "492d43e4-f095-4402-d647-8428dcc80490"
      },
      "source": [
        "import pandas as pd\n",
        "#open source data analysis and manipulation tool\n",
        "import nltk\n",
        "# Natural Language Toolkit\n",
        "import seaborn as sns \n",
        "#Library for diagrams\n",
        "from textblob import TextBlob\n",
        "#Library for processing textual data\n",
        "import re as regex\n",
        "import re\n",
        "nltk.download('punkt')  \n",
        "# Natural Language Toolkit\n",
        "from collections import Counter\n",
        "# sklearn library for train-test,accuracy-recall-precision score and time\n",
        "from sklearn.model_selection import train_test_split, cross_val_score, GridSearchCV, RandomizedSearchCV\n",
        "# time library for calculate time\n",
        "from time import time\n",
        "#precision, recall and and accuracy score from sklearn.metrics libraty  \n",
        "from sklearn.metrics import f1_score, precision_score, recall_score, accuracy_score\n",
        "\n"
      ],
      "execution_count": 1,
      "outputs": [
        {
          "output_type": "stream",
          "text": [
            "[nltk_data] Downloading package punkt to /root/nltk_data...\n",
            "[nltk_data]   Unzipping tokenizers/punkt.zip.\n"
          ],
          "name": "stdout"
        }
      ]
    },
    {
      "cell_type": "code",
      "metadata": {
        "id": "an1k3YsWPWDO"
      },
      "source": [
        "#Read .csv files into train and test data with the right encoding!\n",
        "train_data = pd.read_csv('/content/SocialMedia.csv', encoding= 'unicode_escape')\n",
        "test_data = pd.read_csv('/content/SocialMedia2.csv', encoding= 'unicode_escape')\n",
        "\n",
        "\n",
        "\n",
        "\n",
        "\n",
        "train_data = train_data[train_data['Sentiment'] != 'Text']"
      ],
      "execution_count": 2,
      "outputs": []
    },
    {
      "cell_type": "code",
      "metadata": {
        "id": "S2Kira26Vy4Z",
        "colab": {
          "base_uri": "https://localhost:8080/",
          "height": 204
        },
        "outputId": "e6334615-5a24-4bd7-db6b-559f6b474f25"
      },
      "source": [
        "# Analyze the 1st 5 posts of train_data file\r\n",
        "train_data.head() "
      ],
      "execution_count": 3,
      "outputs": [
        {
          "output_type": "execute_result",
          "data": {
            "text/html": [
              "<div>\n",
              "<style scoped>\n",
              "    .dataframe tbody tr th:only-of-type {\n",
              "        vertical-align: middle;\n",
              "    }\n",
              "\n",
              "    .dataframe tbody tr th {\n",
              "        vertical-align: top;\n",
              "    }\n",
              "\n",
              "    .dataframe thead th {\n",
              "        text-align: right;\n",
              "    }\n",
              "</style>\n",
              "<table border=\"1\" class=\"dataframe\">\n",
              "  <thead>\n",
              "    <tr style=\"text-align: right;\">\n",
              "      <th></th>\n",
              "      <th>ID</th>\n",
              "      <th>Text</th>\n",
              "      <th>Sentiment</th>\n",
              "    </tr>\n",
              "  </thead>\n",
              "  <tbody>\n",
              "    <tr>\n",
              "      <th>0</th>\n",
              "      <td>P1</td>\n",
              "      <td>Who is ready for iPhone 6s and iPhone 6s Plus?...</td>\n",
              "      <td>positive</td>\n",
              "    </tr>\n",
              "    <tr>\n",
              "      <th>1</th>\n",
              "      <td>P2</td>\n",
              "      <td>@lucy_larkman there are hacks on how to save h...</td>\n",
              "      <td>positive</td>\n",
              "    </tr>\n",
              "    <tr>\n",
              "      <th>2</th>\n",
              "      <td>P3</td>\n",
              "      <td>Hi Rica Cunanan : ricacunanan09 Do u want to g...</td>\n",
              "      <td>positive</td>\n",
              "    </tr>\n",
              "    <tr>\n",
              "      <th>3</th>\n",
              "      <td>P4</td>\n",
              "      <td>Hi Ariane Valentine : mainlyboredom Do u want ...</td>\n",
              "      <td>positive</td>\n",
              "    </tr>\n",
              "    <tr>\n",
              "      <th>4</th>\n",
              "      <td>P5</td>\n",
              "      <td>Hi eastside_crazii : rthompson672 Do u want to...</td>\n",
              "      <td>positive</td>\n",
              "    </tr>\n",
              "  </tbody>\n",
              "</table>\n",
              "</div>"
            ],
            "text/plain": [
              "   ID                                               Text Sentiment\n",
              "0  P1  Who is ready for iPhone 6s and iPhone 6s Plus?...  positive\n",
              "1  P2  @lucy_larkman there are hacks on how to save h...  positive\n",
              "2  P3  Hi Rica Cunanan : ricacunanan09 Do u want to g...  positive\n",
              "3  P4  Hi Ariane Valentine : mainlyboredom Do u want ...  positive\n",
              "4  P5  Hi eastside_crazii : rthompson672 Do u want to...  positive"
            ]
          },
          "metadata": {
            "tags": []
          },
          "execution_count": 3
        }
      ]
    },
    {
      "cell_type": "code",
      "metadata": {
        "id": "N6mLjjPQVzJW",
        "colab": {
          "base_uri": "https://localhost:8080/"
        },
        "outputId": "c71ab9e5-dcf5-470d-b76d-09b55fa5351b"
      },
      "source": [
        "# Info for the train_data file\r\n",
        "train_data.info() "
      ],
      "execution_count": 4,
      "outputs": [
        {
          "output_type": "stream",
          "text": [
            "<class 'pandas.core.frame.DataFrame'>\n",
            "Int64Index: 120 entries, 0 to 119\n",
            "Data columns (total 3 columns):\n",
            " #   Column     Non-Null Count  Dtype \n",
            "---  ------     --------------  ----- \n",
            " 0   ID         120 non-null    object\n",
            " 1   Text       120 non-null    object\n",
            " 2   Sentiment  120 non-null    object\n",
            "dtypes: object(3)\n",
            "memory usage: 3.8+ KB\n"
          ],
          "name": "stdout"
        }
      ]
    },
    {
      "cell_type": "code",
      "metadata": {
        "id": "Uu01BC2rZKRA",
        "colab": {
          "base_uri": "https://localhost:8080/",
          "height": 204
        },
        "outputId": "571cebd7-ca82-4d2e-caeb-4280d4b3482b"
      },
      "source": [
        "# Analyze the 1st 5 posts of test_data file\r\n",
        "test_data.head()"
      ],
      "execution_count": 5,
      "outputs": [
        {
          "output_type": "execute_result",
          "data": {
            "text/html": [
              "<div>\n",
              "<style scoped>\n",
              "    .dataframe tbody tr th:only-of-type {\n",
              "        vertical-align: middle;\n",
              "    }\n",
              "\n",
              "    .dataframe tbody tr th {\n",
              "        vertical-align: top;\n",
              "    }\n",
              "\n",
              "    .dataframe thead th {\n",
              "        text-align: right;\n",
              "    }\n",
              "</style>\n",
              "<table border=\"1\" class=\"dataframe\">\n",
              "  <thead>\n",
              "    <tr style=\"text-align: right;\">\n",
              "      <th></th>\n",
              "      <th>ID</th>\n",
              "      <th>Text</th>\n",
              "      <th>Sentiment</th>\n",
              "    </tr>\n",
              "  </thead>\n",
              "  <tbody>\n",
              "    <tr>\n",
              "      <th>0</th>\n",
              "      <td>P1</td>\n",
              "      <td>Who is ready for iPhone 6s and iPhone 6s Plus?...</td>\n",
              "      <td>positive</td>\n",
              "    </tr>\n",
              "    <tr>\n",
              "      <th>1</th>\n",
              "      <td>P2</td>\n",
              "      <td>fadfsdafasd dfdfddf :)</td>\n",
              "      <td>positive</td>\n",
              "    </tr>\n",
              "    <tr>\n",
              "      <th>2</th>\n",
              "      <td>P3</td>\n",
              "      <td>Hi Rica Cunanan : ricacunanan09 Do u want to g...</td>\n",
              "      <td>positive</td>\n",
              "    </tr>\n",
              "    <tr>\n",
              "      <th>3</th>\n",
              "      <td>P4</td>\n",
              "      <td>Hi Ariane Valentine : mainlyboredom Do u want ...</td>\n",
              "      <td>positive</td>\n",
              "    </tr>\n",
              "    <tr>\n",
              "      <th>4</th>\n",
              "      <td>P5</td>\n",
              "      <td>Hi eastside_crazii : rthompson672 Do u want to...</td>\n",
              "      <td>positive</td>\n",
              "    </tr>\n",
              "  </tbody>\n",
              "</table>\n",
              "</div>"
            ],
            "text/plain": [
              "   ID                                               Text Sentiment\n",
              "0  P1  Who is ready for iPhone 6s and iPhone 6s Plus?...  positive\n",
              "1  P2                             fadfsdafasd dfdfddf :)  positive\n",
              "2  P3  Hi Rica Cunanan : ricacunanan09 Do u want to g...  positive\n",
              "3  P4  Hi Ariane Valentine : mainlyboredom Do u want ...  positive\n",
              "4  P5  Hi eastside_crazii : rthompson672 Do u want to...  positive"
            ]
          },
          "metadata": {
            "tags": []
          },
          "execution_count": 5
        }
      ]
    },
    {
      "cell_type": "code",
      "metadata": {
        "id": "HzsXr0BKZVG0",
        "colab": {
          "base_uri": "https://localhost:8080/"
        },
        "outputId": "8d943614-50ba-4d8c-e559-4abedc2e3135"
      },
      "source": [
        "# Info for the test_data file\r\n",
        "test_data.info()"
      ],
      "execution_count": 6,
      "outputs": [
        {
          "output_type": "stream",
          "text": [
            "<class 'pandas.core.frame.DataFrame'>\n",
            "RangeIndex: 19 entries, 0 to 18\n",
            "Data columns (total 3 columns):\n",
            " #   Column     Non-Null Count  Dtype \n",
            "---  ------     --------------  ----- \n",
            " 0   ID         19 non-null     object\n",
            " 1   Text       19 non-null     object\n",
            " 2   Sentiment  19 non-null     object\n",
            "dtypes: object(3)\n",
            "memory usage: 584.0+ bytes\n"
          ],
          "name": "stdout"
        }
      ]
    },
    {
      "cell_type": "code",
      "metadata": {
        "id": "3k4MwpExZfna",
        "colab": {
          "base_uri": "https://localhost:8080/",
          "height": 296
        },
        "outputId": "0ca90449-870a-493f-9e87-96b1f91ae999"
      },
      "source": [
        "# Diagram of the train_data file with number of posts and negantive files\r\n",
        "sns.countplot(x='Sentiment',data=train_data)"
      ],
      "execution_count": 7,
      "outputs": [
        {
          "output_type": "execute_result",
          "data": {
            "text/plain": [
              "<matplotlib.axes._subplots.AxesSubplot at 0x7f62e1e77d68>"
            ]
          },
          "metadata": {
            "tags": []
          },
          "execution_count": 7
        },
        {
          "output_type": "display_data",
          "data": {
            "image/png": "[encoded data removed]",
            "text/plain": [
              "<Figure size 432x288 with 1 Axes>"
            ]
          },
          "metadata": {
            "tags": [],
            "needs_background": "light"
          }
        }
      ]
    },
    {
      "cell_type": "code",
      "metadata": {
        "id": "1R3T4hUNTgrP"
      },
      "source": [
        "# remove tweets with empty sentiment column\r\n",
        "\r\n",
        "train_data = train_data[train_data['Sentiment'] != \"\"]\r\n",
        "\r\n"
      ],
      "execution_count": 8,
      "outputs": []
    },
    {
      "cell_type": "code",
      "metadata": {
        "colab": {
          "base_uri": "https://localhost:8080/"
        },
        "id": "FJhWRkWwUFNx",
        "outputId": "dd4fc050-6fe9-42c4-f752-dff6a19b7c5e"
      },
      "source": [
        "train_data.info()"
      ],
      "execution_count": 9,
      "outputs": [
        {
          "output_type": "stream",
          "text": [
            "<class 'pandas.core.frame.DataFrame'>\n",
            "Int64Index: 120 entries, 0 to 119\n",
            "Data columns (total 3 columns):\n",
            " #   Column     Non-Null Count  Dtype \n",
            "---  ------     --------------  ----- \n",
            " 0   ID         120 non-null    object\n",
            " 1   Text       120 non-null    object\n",
            " 2   Sentiment  120 non-null    object\n",
            "dtypes: object(3)\n",
            "memory usage: 3.8+ KB\n"
          ],
          "name": "stdout"
        }
      ]
    },
    {
      "cell_type": "code",
      "metadata": {
        "id": "I6W32e01Zuq6"
      },
      "source": [
        "\n",
        "\n",
        " #Function to clean tweets\n",
        " #Remove URLs\n",
        " #Remove usernames (mentions)\n",
        " #Remove special characters EXCEPT FROM :,)\n",
        " #Remove Numbers \n",
        "\n",
        "\n",
        "\n",
        "def clean_tweets(tweet):\n",
        "    \n",
        "    # remove URL\n",
        "    tweet = re.sub(r\"http\\S+\", \"\", tweet)\n",
        "    \n",
        "    # Remove usernames\n",
        "    tweet = re.sub(r\"@[^\\s]+[\\s]?\",'',tweet)\n",
        "\n",
        "     # remove special characters \n",
        "    tweet = re.sub('[^ a-zA-Z0-9]' , '', tweet)\n",
        "    \n",
        "    # remove Numbers\n",
        "    tweet = re.sub('[0-9]', '', tweet)\n",
        "    \n",
        "    \n",
        "    \n",
        "    \n",
        "    \n",
        "    return tweet\n",
        "\n"
      ],
      "execution_count": 10,
      "outputs": []
    },
    {
      "cell_type": "code",
      "metadata": {
        "id": "Fe1zeVo0a9fQ"
      },
      "source": [
        "# Apply function to Text column with clean text\n",
        "train_data['Text'] = train_data['Text'].apply(clean_tweets)\n"
      ],
      "execution_count": 12,
      "outputs": []
    },
    {
      "cell_type": "code",
      "metadata": {
        "id": "V42QcdAhzaI4",
        "colab": {
          "base_uri": "https://localhost:8080/"
        },
        "outputId": "6284a383-1e34-4eb7-858a-bebe4dd93f70"
      },
      "source": [
        "#Analyze the 1st 5 posts of train_data file after cleaning with Name of column and datatype!\r\n",
        "train_data['Text'].head()"
      ],
      "execution_count": 13,
      "outputs": [
        {
          "output_type": "execute_result",
          "data": {
            "text/plain": [
              "0    Who is ready for iPhone s and iPhone s Plus I ...\n",
              "1    there are hacks on how to save heaps of batter...\n",
              "2    Hi Rica Cunanan  ricacunanan Do u want to get ...\n",
              "3    Hi Ariane Valentine  mainlyboredom Do u want t...\n",
              "4    Hi eastsidecrazii  rthompson Do u want to get ...\n",
              "Name: Text, dtype: object"
            ]
          },
          "metadata": {
            "tags": []
          },
          "execution_count": 13
        }
      ]
    },
    {
      "cell_type": "code",
      "metadata": {
        "colab": {
          "base_uri": "https://localhost:8080/"
        },
        "id": "9yufH4g6UsPL",
        "outputId": "ab4a9eef-bfb4-4cc2-b1b3-044174ccfd80"
      },
      "source": [
        "# Function which directly tokenize the text data\r\n",
        "from nltk.tokenize import TweetTokenizer\r\n",
        "\r\n",
        "tt = TweetTokenizer()\r\n",
        "train_data['Text'].apply(tt.tokenize)"
      ],
      "execution_count": 14,
      "outputs": [
        {
          "output_type": "execute_result",
          "data": {
            "text/plain": [
              "0      [Who, is, ready, for, iPhone, s, and, iPhone, ...\n",
              "1      [there, are, hacks, on, how, to, save, heaps, ...\n",
              "2      [Hi, Rica, Cunanan, ricacunanan, Do, u, want, ...\n",
              "3      [Hi, Ariane, Valentine, mainlyboredom, Do, u, ...\n",
              "4      [Hi, eastsidecrazii, rthompson, Do, u, want, t...\n",
              "                             ...                        \n",
              "115    [When, youre, sitting, there, waiting, for, th...\n",
              "116                                          [Iphone, s]\n",
              "117          [I, WANNA, iPHONE, TOO, I, HAVE, NO, PHONE]\n",
              "118    [maybe, some, of, us, like, our, iPhone, Fives...\n",
              "119    [Today, is, the, iPhone, S, release, date, May...\n",
              "Name: Text, Length: 120, dtype: object"
            ]
          },
          "metadata": {
            "tags": []
          },
          "execution_count": 14
        }
      ]
    },
    {
      "cell_type": "code",
      "metadata": {
        "id": "LOuK7HZUUyVj"
      },
      "source": [
        "from nltk.stem import PorterStemmer   #Libraries for tokenize words\r\n",
        "from nltk.tokenize import sent_tokenize, word_tokenize\r\n",
        "\r\n",
        "ps = PorterStemmer()"
      ],
      "execution_count": 15,
      "outputs": []
    },
    {
      "cell_type": "code",
      "metadata": {
        "id": "WuZ-KGzgUz6-"
      },
      "source": [
        "def tokenize(text):                    # funtion for tokenize words and analyze Text\r\n",
        "    return word_tokenize(text)\r\n",
        "\r\n",
        "def stemming(words):\r\n",
        "    stem_words = []\r\n",
        "    for w in words:\r\n",
        "        w = ps.stem(w)\r\n",
        "        stem_words.append(w)\r\n",
        "    \r\n",
        "    return stem_words"
      ],
      "execution_count": 16,
      "outputs": []
    },
    {
      "cell_type": "code",
      "metadata": {
        "id": "xayXJboYU0Ej"
      },
      "source": [
        "# apply tokenize function\r\n",
        "train_data['text'] = train_data['Text'].apply(tokenize)"
      ],
      "execution_count": 17,
      "outputs": []
    },
    {
      "cell_type": "code",
      "metadata": {
        "id": "QHM3tt98U_xt"
      },
      "source": [
        "# apply steming function\r\n",
        "train_data['tokenized'] = train_data['text'].apply(stemming)"
      ],
      "execution_count": 18,
      "outputs": []
    },
    {
      "cell_type": "code",
      "metadata": {
        "colab": {
          "base_uri": "https://localhost:8080/",
          "height": 289
        },
        "id": "TtYZ_SwnVABN",
        "outputId": "0e6ce9e0-54ca-4526-85e7-965482970b26"
      },
      "source": [
        "train_data.head()  #See the 1st 5 tokenize reults"
      ],
      "execution_count": 19,
      "outputs": [
        {
          "output_type": "execute_result",
          "data": {
            "text/html": [
              "<div>\n",
              "<style scoped>\n",
              "    .dataframe tbody tr th:only-of-type {\n",
              "        vertical-align: middle;\n",
              "    }\n",
              "\n",
              "    .dataframe tbody tr th {\n",
              "        vertical-align: top;\n",
              "    }\n",
              "\n",
              "    .dataframe thead th {\n",
              "        text-align: right;\n",
              "    }\n",
              "</style>\n",
              "<table border=\"1\" class=\"dataframe\">\n",
              "  <thead>\n",
              "    <tr style=\"text-align: right;\">\n",
              "      <th></th>\n",
              "      <th>ID</th>\n",
              "      <th>Text</th>\n",
              "      <th>Sentiment</th>\n",
              "      <th>text</th>\n",
              "      <th>tokenized</th>\n",
              "    </tr>\n",
              "  </thead>\n",
              "  <tbody>\n",
              "    <tr>\n",
              "      <th>0</th>\n",
              "      <td>P1</td>\n",
              "      <td>Who is ready for iPhone s and iPhone s Plus I ...</td>\n",
              "      <td>positive</td>\n",
              "      <td>[Who, is, ready, for, iPhone, s, and, iPhone, ...</td>\n",
              "      <td>[who, is, readi, for, iphon, s, and, iphon, s,...</td>\n",
              "    </tr>\n",
              "    <tr>\n",
              "      <th>1</th>\n",
              "      <td>P2</td>\n",
              "      <td>there are hacks on how to save heaps of batter...</td>\n",
              "      <td>positive</td>\n",
              "      <td>[there, are, hacks, on, how, to, save, heaps, ...</td>\n",
              "      <td>[there, are, hack, on, how, to, save, heap, of...</td>\n",
              "    </tr>\n",
              "    <tr>\n",
              "      <th>2</th>\n",
              "      <td>P3</td>\n",
              "      <td>Hi Rica Cunanan  ricacunanan Do u want to get ...</td>\n",
              "      <td>positive</td>\n",
              "      <td>[Hi, Rica, Cunanan, ricacunanan, Do, u, want, ...</td>\n",
              "      <td>[Hi, rica, cunanan, ricacunanan, Do, u, want, ...</td>\n",
              "    </tr>\n",
              "    <tr>\n",
              "      <th>3</th>\n",
              "      <td>P4</td>\n",
              "      <td>Hi Ariane Valentine  mainlyboredom Do u want t...</td>\n",
              "      <td>positive</td>\n",
              "      <td>[Hi, Ariane, Valentine, mainlyboredom, Do, u, ...</td>\n",
              "      <td>[Hi, arian, valentin, mainlyboredom, Do, u, wa...</td>\n",
              "    </tr>\n",
              "    <tr>\n",
              "      <th>4</th>\n",
              "      <td>P5</td>\n",
              "      <td>Hi eastsidecrazii  rthompson Do u want to get ...</td>\n",
              "      <td>positive</td>\n",
              "      <td>[Hi, eastsidecrazii, rthompson, Do, u, want, t...</td>\n",
              "      <td>[Hi, eastsidecrazii, rthompson, Do, u, want, t...</td>\n",
              "    </tr>\n",
              "  </tbody>\n",
              "</table>\n",
              "</div>"
            ],
            "text/plain": [
              "   ID  ...                                          tokenized\n",
              "0  P1  ...  [who, is, readi, for, iphon, s, and, iphon, s,...\n",
              "1  P2  ...  [there, are, hack, on, how, to, save, heap, of...\n",
              "2  P3  ...  [Hi, rica, cunanan, ricacunanan, Do, u, want, ...\n",
              "3  P4  ...  [Hi, arian, valentin, mainlyboredom, Do, u, wa...\n",
              "4  P5  ...  [Hi, eastsidecrazii, rthompson, Do, u, want, t...\n",
              "\n",
              "[5 rows x 5 columns]"
            ]
          },
          "metadata": {
            "tags": []
          },
          "execution_count": 19
        }
      ]
    },
    {
      "cell_type": "code",
      "metadata": {
        "colab": {
          "base_uri": "https://localhost:8080/"
        },
        "id": "rNdZmxmvVAEa",
        "outputId": "751c4c0e-c7a8-4a2f-ac66-8ff2b6e2414a"
      },
      "source": [
        "words = Counter()                       # Words analyze  (5 most common) with count of them\r\n",
        "for idx in train_data.index:\r\n",
        "    words.update(train_data.loc[idx, \"text\"])\r\n",
        "\r\n",
        "words.most_common(5)"
      ],
      "execution_count": 20,
      "outputs": [
        {
          "output_type": "execute_result",
          "data": {
            "text/plain": [
              "[('iPhone', 98), ('my', 73), ('get', 65), ('Hi', 57), ('FREE', 57)]"
            ]
          },
          "metadata": {
            "tags": []
          },
          "execution_count": 20
        }
      ]
    },
    {
      "cell_type": "code",
      "metadata": {
        "colab": {
          "base_uri": "https://localhost:8080/"
        },
        "id": "_locqyG1VAGY",
        "outputId": "d5e5ebaf-95dd-406a-95c7-393bbb96d789"
      },
      "source": [
        "nltk.download('stopwords')\r\n",
        "stopwords=nltk.corpus.stopwords.words(\"english\")"
      ],
      "execution_count": 21,
      "outputs": [
        {
          "output_type": "stream",
          "text": [
            "[nltk_data] Downloading package stopwords to /root/nltk_data...\n",
            "[nltk_data]   Unzipping corpora/stopwords.zip.\n"
          ],
          "name": "stdout"
        }
      ]
    },
    {
      "cell_type": "code",
      "metadata": {
        "colab": {
          "base_uri": "https://localhost:8080/"
        },
        "id": "dv9QziH7VrZF",
        "outputId": "f5642f97-9431-4d71-db93-266758abe7c7"
      },
      "source": [
        "whitelist = [\"n't\", \"not\"]\r\n",
        "for idx, stop_word in enumerate(stopwords):\r\n",
        "    if stop_word not in whitelist:\r\n",
        "        del words[stop_word]\r\n",
        "words.most_common(5)"
      ],
      "execution_count": 22,
      "outputs": [
        {
          "output_type": "execute_result",
          "data": {
            "text/plain": [
              "[('iPhone', 98), ('get', 65), ('Hi', 57), ('FREE', 57), ('check', 57)]"
            ]
          },
          "metadata": {
            "tags": []
          },
          "execution_count": 22
        }
      ]
    },
    {
      "cell_type": "code",
      "metadata": {
        "id": "casfmCgTVrbt"
      },
      "source": [
        "def word_list(processed_data): # wORDLIST FUNCTION FOR ANALYZE MOST COMMON WORDS WITH PURPOSE TO IDENTIFY OUR APP THE REAL SENTIMENT\r\n",
        "    #print(processed_data)\r\n",
        "    min_occurrences=3 \r\n",
        "    max_occurences=500 \r\n",
        "    stopwords=nltk.corpus.stopwords.words(\"english\")\r\n",
        "    whitelist = [\"n't\",\"not\"]\r\n",
        "    wordlist = []\r\n",
        "    \r\n",
        "    whitelist = whitelist if whitelist is None else whitelist\r\n",
        "    \r\n",
        "    words = Counter()\r\n",
        "    for idx in processed_data.index:\r\n",
        "        words.update(processed_data.loc[idx, \"text\"])\r\n",
        "\r\n",
        "    for idx, stop_word in enumerate(stopwords):\r\n",
        "        if stop_word not in whitelist:\r\n",
        "            del words[stop_word]\r\n",
        "    #print(words)\r\n",
        "\r\n",
        "    word_df = pd.DataFrame(data={\"word\": [k for k, v in words.most_common() if min_occurrences < v < max_occurences],\r\n",
        "                                 \"occurrences\": [v for k, v in words.most_common() if min_occurrences < v < max_occurences]},\r\n",
        "                           columns=[\"word\", \"occurrences\"])\r\n",
        "    #print(word_df)\r\n",
        "    word_df.to_csv(\"wordlist.csv\", index_label=\"idx\")\r\n",
        "    wordlist = [k for k, v in words.most_common() if min_occurrences < v < max_occurences]\r\n",
        "    #print(wordlist)"
      ],
      "execution_count": 23,
      "outputs": []
    },
    {
      "cell_type": "code",
      "metadata": {
        "id": "lw2M-5clVre4"
      },
      "source": [
        "word_list(train_data)    #TRAIN DATA INTO WORDLIST FOR ANALYZE"
      ],
      "execution_count": 24,
      "outputs": []
    },
    {
      "cell_type": "code",
      "metadata": {
        "id": "UzeoAT34VrhK"
      },
      "source": [
        "words = pd.read_csv(\"wordlist.csv\") #CREATE WORDLIST CSV WITH THE MOST COMMON WORDS"
      ],
      "execution_count": 25,
      "outputs": []
    },
    {
      "cell_type": "code",
      "metadata": {
        "id": "ZBWrKVN6WRv3"
      },
      "source": [
        "import os\r\n",
        "wordlist= []      #CREATE THE FILE WORDLIST\r\n",
        "if os.path.isfile(\"wordlist.csv\"):\r\n",
        "    word_df = pd.read_csv(\"wordlist.csv\")\r\n",
        "    word_df = word_df[word_df[\"occurrences\"] > 3]\r\n",
        "    wordlist = list(word_df.loc[:, \"word\"])\r\n",
        "\r\n",
        "label_column = [\"label\"]\r\n",
        "columns = label_column + list(map(lambda w: w + \"_bow\",wordlist))\r\n",
        "labels = []\r\n",
        "rows = []\r\n",
        "for idx in train_data.index:\r\n",
        "    current_row = []\r\n",
        "    \r\n",
        "    # add label\r\n",
        "    current_label = train_data.loc[idx, \"Sentiment\"]\r\n",
        "    labels.append(current_label)\r\n",
        "    current_row.append(current_label)\r\n",
        "\r\n",
        "    # add bag-of-words\r\n",
        "    tokens = set(train_data.loc[idx, \"text\"])\r\n",
        "    for _, word in enumerate(wordlist):\r\n",
        "        current_row.append(1 if word in tokens else 0)\r\n",
        "\r\n",
        "    rows.append(current_row)\r\n",
        "\r\n",
        "data_model = pd.DataFrame(rows, columns=columns)\r\n",
        "data_labels = pd.Series(labels)\r\n",
        "\r\n",
        "\r\n",
        "bow = data_model"
      ],
      "execution_count": 26,
      "outputs": []
    },
    {
      "cell_type": "code",
      "metadata": {
        "id": "V4J1pnmgWRy_"
      },
      "source": [
        "import random    #Randomize the Texts\r\n",
        "seed = 777\r\n",
        "random.seed(seed)"
      ],
      "execution_count": 27,
      "outputs": []
    },
    {
      "cell_type": "code",
      "metadata": {
        "id": "y4vANEQpoSXc"
      },
      "source": [
        " def log(x):\r\n",
        "    #can be used to write to log file\r\n",
        "     print(x)"
      ],
      "execution_count": 28,
      "outputs": []
    },
    {
      "cell_type": "code",
      "metadata": {
        "id": "MYGbDLl4WR2C"
      },
      "source": [
        "def test_classifier(X_train, y_train, X_test, y_test, classifier):\r\n",
        "    log(\"\")\r\n",
        "    log(\"---------------------------------------------------------\")\r\n",
        "    log(\"Testing \" + str(type(classifier).__name__))\r\n",
        "    now = time()\r\n",
        "    list_of_labels = sorted(list(set(y_train)))\r\n",
        "    model = classifier.fit(X_train, y_train)\r\n",
        "    log(\"Learing time {0}s\".format(time() - now))\r\n",
        "    now = time()\r\n",
        "    predictions = model.predict(X_test)\r\n",
        "    log(\"Predicting time {0}s\".format(time() - now))\r\n",
        "\r\n",
        "    # Calculate Accuracy, Precision, recall computation\r\n",
        "    \r\n",
        "    precision = precision_score(y_test, predictions, average=None, pos_label=None, labels=list_of_labels)\r\n",
        "    recall = recall_score(y_test, predictions, average=None, pos_label=None, labels=list_of_labels)\r\n",
        "    accuracy = accuracy_score(y_test, predictions)\r\n",
        "    f1 = f1_score(y_test, predictions, average=None, pos_label=None, labels=list_of_labels)\r\n",
        "    \r\n",
        "    log(\"=================== Results ===================\")\r\n",
        "    log(\"         Negative   Positive          \")\r\n",
        "    log(\"F1       \" +   str(f1))\r\n",
        "    log(\"Precision\" +   str(precision))\r\n",
        "    log(\"Recall   \" +   str(recall))\r\n",
        "    log(\"Accuracy \" +   str(accuracy))\r\n",
        "    log(\"===============================================\")\r\n",
        "\r\n",
        "    return precision, recall, accuracy, f1\r\n",
        "   \r\n",
        "   \r\n"
      ],
      "execution_count": 29,
      "outputs": []
    },
    {
      "cell_type": "code",
      "metadata": {
        "colab": {
          "base_uri": "https://localhost:8080/"
        },
        "id": "EoclLwGCWR5D",
        "outputId": "b98680cc-35a4-4ca7-c3c0-80303e182f8e"
      },
      "source": [
        "\r\n",
        "from sklearn.naive_bayes import BernoulliNB  #Print f1, Precision, Recall ,Accuracy Score got Negatives and Positives Posts\r\n",
        "X_train, X_test, y_train, y_test = train_test_split(bow.iloc[:, 1:], bow['label'], test_size=0.3)\r\n",
        "precision, recall, accuracy, f1 = test_classifier(X_train, y_train, X_test, y_test, BernoulliNB())"
      ],
      "execution_count": 30,
      "outputs": [
        {
          "output_type": "stream",
          "text": [
            "\n",
            "---------------------------------------------------------\n",
            "Testing BernoulliNB\n",
            "Learing time 0.0030260086059570312s\n",
            "Predicting time 0.00084686279296875s\n",
            "=================== Results ===================\n",
            "         Negative   Positive          \n",
            "F1       [0.72727273 0.76923077]\n",
            "Precision[0.57142857 1.        ]\n",
            "Recall   [1.    0.625]\n",
            "Accuracy 0.75\n",
            "===============================================\n"
          ],
          "name": "stdout"
        }
      ]
    },
    {
      "cell_type": "code",
      "metadata": {
        "id": "8wpNcPdfWR8a"
      },
      "source": [
        ""
      ],
      "execution_count": null,
      "outputs": []
    },
    {
      "cell_type": "code",
      "metadata": {
        "id": "KxSsoA8obUEs",
        "colab": {
          "base_uri": "https://localhost:8080/"
        },
        "outputId": "bd04381a-0210-4b52-d347-32f6ed92981c"
      },
      "source": [
        "# Give text input for testing your post!\n",
        "# After clean tweet and print it!\n",
        "\n",
        "y= input(\"Type your post for analysis:\")\n",
        "x=clean_tweets(y)\n",
        "print(x)\n",
        "\n"
      ],
      "execution_count": 34,
      "outputs": [
        {
          "output_type": "stream",
          "text": [
            "Type your post for analysis:Who is ready for iPhone 6s and iPhone 6s Plus? :)\n",
            "Who is ready for iPhone s and iPhone s Plus \n"
          ],
          "name": "stdout"
        }
      ]
    },
    {
      "cell_type": "code",
      "metadata": {
        "colab": {
          "base_uri": "https://localhost:8080/"
        },
        "id": "R9sp8Owog5v8",
        "outputId": "4335965e-0ecf-4db9-ee8f-b26fb6d5bc9f"
      },
      "source": [
        "# Using textblob library for data analysis \n",
        "# After sentiment and polarity for calculate the emotion of the post and print it for testing!\n",
        "text= TextBlob(y)\n",
        "\n",
        "\n",
        "z = text.sentiment.polarity\n",
        "\n",
        "print (z)\n",
        "\n",
        "\n",
        "\n"
      ],
      "execution_count": 35,
      "outputs": [
        {
          "output_type": "stream",
          "text": [
            "0.35\n"
          ],
          "name": "stdout"
        }
      ]
    },
    {
      "cell_type": "code",
      "metadata": {
        "colab": {
          "base_uri": "https://localhost:8080/"
        },
        "id": "koTCKEHUg5yj",
        "outputId": "1463f5ea-f7b0-4799-f0df-ae714bbe3ba8"
      },
      "source": [
        "# Using if statement for printing if it is positive or negative!\n",
        "\n",
        "if z==0: \n",
        "    print(\"Neutral\")\n",
        "elif z<0:\n",
        "    print(\"Negative\")\n",
        "else:\n",
        "    print(\"Positive\")"
      ],
      "execution_count": 36,
      "outputs": [
        {
          "output_type": "stream",
          "text": [
            "Positive\n"
          ],
          "name": "stdout"
        }
      ]
    }
  ]
}